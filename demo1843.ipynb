{
 "cells": [
  {
   "cell_type": "code",
   "execution_count": 1,
   "id": "1716e26a",
   "metadata": {},
   "outputs": [
    {
     "name": "stdout",
     "output_type": "stream",
     "text": [
      "hello world\n"
     ]
    }
   ],
   "source": [
    "print(\"hello world\")"
   ]
  },
  {
   "cell_type": "code",
   "execution_count": 2,
   "id": "7b82a868",
   "metadata": {},
   "outputs": [
    {
     "name": "stdout",
     "output_type": "stream",
     "text": [
      "hello world\n"
     ]
    }
   ],
   "source": [
    "print('hello world')"
   ]
  },
  {
   "cell_type": "code",
   "execution_count": 4,
   "id": "b94e56db",
   "metadata": {},
   "outputs": [
    {
     "name": "stdout",
     "output_type": "stream",
     "text": [
      "hello shikha\n"
     ]
    }
   ],
   "source": [
    "print('hello shikha')"
   ]
  },
  {
   "cell_type": "code",
   "execution_count": 14,
   "id": "0f68b7ee",
   "metadata": {},
   "outputs": [
    {
     "name": "stdout",
     "output_type": "stream",
     "text": [
      "10\n",
      "x\n"
     ]
    }
   ],
   "source": [
    "x=10\n",
    "print(x)\n",
    "print(\"x\")"
   ]
  },
  {
   "cell_type": "code",
   "execution_count": 10,
   "id": "76e2d3e9",
   "metadata": {},
   "outputs": [
    {
     "name": "stdout",
     "output_type": "stream",
     "text": [
      "x= 10\n"
     ]
    }
   ],
   "source": [
    "print('x=' , x)"
   ]
  },
  {
   "cell_type": "code",
   "execution_count": 12,
   "id": "4d0fc52b",
   "metadata": {},
   "outputs": [
    {
     "name": "stdout",
     "output_type": "stream",
     "text": [
      "x= 15\n"
     ]
    }
   ],
   "source": [
    "x=15\n",
    "print(\"x=\",x)"
   ]
  },
  {
   "cell_type": "code",
   "execution_count": 15,
   "id": "2bd1fc72",
   "metadata": {},
   "outputs": [
    {
     "name": "stdout",
     "output_type": "stream",
     "text": [
      "10\n"
     ]
    }
   ],
   "source": [
    "print(x)"
   ]
  },
  {
   "cell_type": "code",
   "execution_count": null,
   "id": "826e78d8",
   "metadata": {},
   "outputs": [],
   "source": []
  }
 ],
 "metadata": {
  "kernelspec": {
   "display_name": "Python 3 (ipykernel)",
   "language": "python",
   "name": "python3"
  },
  "language_info": {
   "codemirror_mode": {
    "name": "ipython",
    "version": 3
   },
   "file_extension": ".py",
   "mimetype": "text/x-python",
   "name": "python",
   "nbconvert_exporter": "python",
   "pygments_lexer": "ipython3",
   "version": "3.9.7"
  }
 },
 "nbformat": 4,
 "nbformat_minor": 5
}
